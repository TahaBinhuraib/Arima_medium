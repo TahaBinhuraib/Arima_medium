{
 "cells": [
  {
   "cell_type": "code",
   "execution_count": 1,
   "metadata": {},
   "outputs": [
    {
     "name": "stderr",
     "output_type": "stream",
     "text": [
      "<ipython-input-1-75431dc0ea81>:1: FutureWarning: The pandas.datetime class is deprecated and will be removed from pandas in a future version. Import from datetime module instead.\n",
      "  from pandas import datetime\n"
     ]
    }
   ],
   "source": [
    "from pandas import datetime\n",
    "import pandas as pd\n",
    "from pandas import DataFrame\n",
    "from statsmodels.tsa.arima.model import ARIMA\n",
    "from matplotlib import pyplot\n",
    "from pandas.plotting import autocorrelation_plot\n",
    "\n",
    "df = pd.read_csv('CORRECTED.csv' , delimiter= ',')"
   ]
  },
  {
   "cell_type": "code",
   "execution_count": 3,
   "metadata": {},
   "outputs": [
    {
     "data": {
      "text/html": [
       "<div>\n",
       "<style scoped>\n",
       "    .dataframe tbody tr th:only-of-type {\n",
       "        vertical-align: middle;\n",
       "    }\n",
       "\n",
       "    .dataframe tbody tr th {\n",
       "        vertical-align: top;\n",
       "    }\n",
       "\n",
       "    .dataframe thead th {\n",
       "        text-align: right;\n",
       "    }\n",
       "</style>\n",
       "<table border=\"1\" class=\"dataframe\">\n",
       "  <thead>\n",
       "    <tr style=\"text-align: right;\">\n",
       "      <th></th>\n",
       "      <th>tarih</th>\n",
       "      <th>saat</th>\n",
       "      <th>YukTahminPlan(MWh)</th>\n",
       "      <th>PTF(TL/MWh)</th>\n",
       "      <th>SMF(TL/MWh)</th>\n",
       "      <th>KGUP(TL/MWh)</th>\n",
       "      <th>YAL0(TL/MWh)</th>\n",
       "      <th>YAL1(TL/MWh)</th>\n",
       "      <th>YAT0(TL/MWh)</th>\n",
       "      <th>YAT1(TL/MWh)</th>\n",
       "      <th>YAL TeslimEdilemeyenMiktar(MWh)</th>\n",
       "      <th>YAT TeslimEdilemeyenMiktar(MWh);PFK Fiyat</th>\n",
       "      <th>PFK Fiyat</th>\n",
       "      <th>SFK Fiyat</th>\n",
       "    </tr>\n",
       "  </thead>\n",
       "  <tbody>\n",
       "    <tr>\n",
       "      <th>0</th>\n",
       "      <td>201802</td>\n",
       "      <td>0</td>\n",
       "      <td>33700</td>\n",
       "      <td>217.12</td>\n",
       "      <td>217.12</td>\n",
       "      <td>31061.72</td>\n",
       "      <td>129.602</td>\n",
       "      <td>0.0</td>\n",
       "      <td>80.833</td>\n",
       "      <td>0.0</td>\n",
       "      <td>3.52</td>\n",
       "      <td>4.00</td>\n",
       "      <td>80.02</td>\n",
       "      <td>79.89</td>\n",
       "    </tr>\n",
       "    <tr>\n",
       "      <th>1</th>\n",
       "      <td>201802</td>\n",
       "      <td>1</td>\n",
       "      <td>31500</td>\n",
       "      <td>203.28</td>\n",
       "      <td>213.20</td>\n",
       "      <td>28579.52</td>\n",
       "      <td>856.082</td>\n",
       "      <td>0.0</td>\n",
       "      <td>0.000</td>\n",
       "      <td>0.0</td>\n",
       "      <td>197.56</td>\n",
       "      <td>0.00</td>\n",
       "      <td>80.02</td>\n",
       "      <td>79.89</td>\n",
       "    </tr>\n",
       "    <tr>\n",
       "      <th>2</th>\n",
       "      <td>201802</td>\n",
       "      <td>2</td>\n",
       "      <td>30200</td>\n",
       "      <td>175.04</td>\n",
       "      <td>175.04</td>\n",
       "      <td>27152.95</td>\n",
       "      <td>NaN</td>\n",
       "      <td>NaN</td>\n",
       "      <td>NaN</td>\n",
       "      <td>NaN</td>\n",
       "      <td>NaN</td>\n",
       "      <td>NaN</td>\n",
       "      <td>80.02</td>\n",
       "      <td>79.89</td>\n",
       "    </tr>\n",
       "    <tr>\n",
       "      <th>3</th>\n",
       "      <td>201802</td>\n",
       "      <td>3</td>\n",
       "      <td>29100</td>\n",
       "      <td>178.01</td>\n",
       "      <td>128.00</td>\n",
       "      <td>26367.11</td>\n",
       "      <td>0.000</td>\n",
       "      <td>0.0</td>\n",
       "      <td>943.950</td>\n",
       "      <td>0.0</td>\n",
       "      <td>0.00</td>\n",
       "      <td>155.43</td>\n",
       "      <td>80.02</td>\n",
       "      <td>79.89</td>\n",
       "    </tr>\n",
       "    <tr>\n",
       "      <th>4</th>\n",
       "      <td>201802</td>\n",
       "      <td>4</td>\n",
       "      <td>29100</td>\n",
       "      <td>132.10</td>\n",
       "      <td>125.00</td>\n",
       "      <td>26151.66</td>\n",
       "      <td>0.000</td>\n",
       "      <td>0.0</td>\n",
       "      <td>515.500</td>\n",
       "      <td>0.0</td>\n",
       "      <td>0.00</td>\n",
       "      <td>18.31</td>\n",
       "      <td>70.02</td>\n",
       "      <td>98.01</td>\n",
       "    </tr>\n",
       "  </tbody>\n",
       "</table>\n",
       "</div>"
      ],
      "text/plain": [
       "    tarih  saat  YukTahminPlan(MWh)  PTF(TL/MWh)  SMF(TL/MWh)  KGUP(TL/MWh)  \\\n",
       "0  201802     0               33700       217.12       217.12      31061.72   \n",
       "1  201802     1               31500       203.28       213.20      28579.52   \n",
       "2  201802     2               30200       175.04       175.04      27152.95   \n",
       "3  201802     3               29100       178.01       128.00      26367.11   \n",
       "4  201802     4               29100       132.10       125.00      26151.66   \n",
       "\n",
       "   YAL0(TL/MWh)  YAL1(TL/MWh)  YAT0(TL/MWh)  YAT1(TL/MWh)  \\\n",
       "0       129.602           0.0        80.833           0.0   \n",
       "1       856.082           0.0         0.000           0.0   \n",
       "2           NaN           NaN           NaN           NaN   \n",
       "3         0.000           0.0       943.950           0.0   \n",
       "4         0.000           0.0       515.500           0.0   \n",
       "\n",
       "   YAL TeslimEdilemeyenMiktar(MWh)  YAT TeslimEdilemeyenMiktar(MWh);PFK Fiyat  \\\n",
       "0                             3.52                                       4.00   \n",
       "1                           197.56                                       0.00   \n",
       "2                              NaN                                        NaN   \n",
       "3                             0.00                                     155.43   \n",
       "4                             0.00                                      18.31   \n",
       "\n",
       "   PFK Fiyat  SFK Fiyat  \n",
       "0      80.02      79.89  \n",
       "1      80.02      79.89  \n",
       "2      80.02      79.89  \n",
       "3      80.02      79.89  \n",
       "4      70.02      98.01  "
      ]
     },
     "execution_count": 3,
     "metadata": {},
     "output_type": "execute_result"
    }
   ],
   "source": [
    "df.head()"
   ]
  },
  {
   "cell_type": "code",
   "execution_count": 4,
   "metadata": {},
   "outputs": [],
   "source": [
    "df['spread'] = df['SMF(TL/MWh)'] - df['PTF(TL/MWh)']\n"
   ]
  },
  {
   "cell_type": "code",
   "execution_count": 5,
   "metadata": {},
   "outputs": [
    {
     "data": {
      "text/html": [
       "<div>\n",
       "<style scoped>\n",
       "    .dataframe tbody tr th:only-of-type {\n",
       "        vertical-align: middle;\n",
       "    }\n",
       "\n",
       "    .dataframe tbody tr th {\n",
       "        vertical-align: top;\n",
       "    }\n",
       "\n",
       "    .dataframe thead th {\n",
       "        text-align: right;\n",
       "    }\n",
       "</style>\n",
       "<table border=\"1\" class=\"dataframe\">\n",
       "  <thead>\n",
       "    <tr style=\"text-align: right;\">\n",
       "      <th></th>\n",
       "      <th>tarih</th>\n",
       "      <th>saat</th>\n",
       "      <th>YukTahminPlan(MWh)</th>\n",
       "      <th>PTF(TL/MWh)</th>\n",
       "      <th>SMF(TL/MWh)</th>\n",
       "      <th>KGUP(TL/MWh)</th>\n",
       "      <th>YAL0(TL/MWh)</th>\n",
       "      <th>YAL1(TL/MWh)</th>\n",
       "      <th>YAT0(TL/MWh)</th>\n",
       "      <th>YAT1(TL/MWh)</th>\n",
       "      <th>YAL TeslimEdilemeyenMiktar(MWh)</th>\n",
       "      <th>YAT TeslimEdilemeyenMiktar(MWh);PFK Fiyat</th>\n",
       "      <th>PFK Fiyat</th>\n",
       "      <th>SFK Fiyat</th>\n",
       "      <th>spread</th>\n",
       "      <th>target_load</th>\n",
       "    </tr>\n",
       "  </thead>\n",
       "  <tbody>\n",
       "    <tr>\n",
       "      <th>0</th>\n",
       "      <td>201802</td>\n",
       "      <td>0</td>\n",
       "      <td>33700</td>\n",
       "      <td>217.12</td>\n",
       "      <td>217.12</td>\n",
       "      <td>31061.72</td>\n",
       "      <td>129.602</td>\n",
       "      <td>0.0</td>\n",
       "      <td>80.833</td>\n",
       "      <td>0.0</td>\n",
       "      <td>3.52</td>\n",
       "      <td>4.00</td>\n",
       "      <td>80.02</td>\n",
       "      <td>79.89</td>\n",
       "      <td>0.00</td>\n",
       "      <td>49.249</td>\n",
       "    </tr>\n",
       "    <tr>\n",
       "      <th>1</th>\n",
       "      <td>201802</td>\n",
       "      <td>1</td>\n",
       "      <td>31500</td>\n",
       "      <td>203.28</td>\n",
       "      <td>213.20</td>\n",
       "      <td>28579.52</td>\n",
       "      <td>856.082</td>\n",
       "      <td>0.0</td>\n",
       "      <td>0.000</td>\n",
       "      <td>0.0</td>\n",
       "      <td>197.56</td>\n",
       "      <td>0.00</td>\n",
       "      <td>80.02</td>\n",
       "      <td>79.89</td>\n",
       "      <td>9.92</td>\n",
       "      <td>658.522</td>\n",
       "    </tr>\n",
       "    <tr>\n",
       "      <th>2</th>\n",
       "      <td>201802</td>\n",
       "      <td>2</td>\n",
       "      <td>30200</td>\n",
       "      <td>175.04</td>\n",
       "      <td>175.04</td>\n",
       "      <td>27152.95</td>\n",
       "      <td>NaN</td>\n",
       "      <td>NaN</td>\n",
       "      <td>NaN</td>\n",
       "      <td>NaN</td>\n",
       "      <td>NaN</td>\n",
       "      <td>NaN</td>\n",
       "      <td>80.02</td>\n",
       "      <td>79.89</td>\n",
       "      <td>0.00</td>\n",
       "      <td>NaN</td>\n",
       "    </tr>\n",
       "    <tr>\n",
       "      <th>3</th>\n",
       "      <td>201802</td>\n",
       "      <td>3</td>\n",
       "      <td>29100</td>\n",
       "      <td>178.01</td>\n",
       "      <td>128.00</td>\n",
       "      <td>26367.11</td>\n",
       "      <td>0.000</td>\n",
       "      <td>0.0</td>\n",
       "      <td>943.950</td>\n",
       "      <td>0.0</td>\n",
       "      <td>0.00</td>\n",
       "      <td>155.43</td>\n",
       "      <td>80.02</td>\n",
       "      <td>79.89</td>\n",
       "      <td>-50.01</td>\n",
       "      <td>-788.520</td>\n",
       "    </tr>\n",
       "    <tr>\n",
       "      <th>4</th>\n",
       "      <td>201802</td>\n",
       "      <td>4</td>\n",
       "      <td>29100</td>\n",
       "      <td>132.10</td>\n",
       "      <td>125.00</td>\n",
       "      <td>26151.66</td>\n",
       "      <td>0.000</td>\n",
       "      <td>0.0</td>\n",
       "      <td>515.500</td>\n",
       "      <td>0.0</td>\n",
       "      <td>0.00</td>\n",
       "      <td>18.31</td>\n",
       "      <td>70.02</td>\n",
       "      <td>98.01</td>\n",
       "      <td>-7.10</td>\n",
       "      <td>-497.190</td>\n",
       "    </tr>\n",
       "  </tbody>\n",
       "</table>\n",
       "</div>"
      ],
      "text/plain": [
       "    tarih  saat  YukTahminPlan(MWh)  PTF(TL/MWh)  SMF(TL/MWh)  KGUP(TL/MWh)  \\\n",
       "0  201802     0               33700       217.12       217.12      31061.72   \n",
       "1  201802     1               31500       203.28       213.20      28579.52   \n",
       "2  201802     2               30200       175.04       175.04      27152.95   \n",
       "3  201802     3               29100       178.01       128.00      26367.11   \n",
       "4  201802     4               29100       132.10       125.00      26151.66   \n",
       "\n",
       "   YAL0(TL/MWh)  YAL1(TL/MWh)  YAT0(TL/MWh)  YAT1(TL/MWh)  \\\n",
       "0       129.602           0.0        80.833           0.0   \n",
       "1       856.082           0.0         0.000           0.0   \n",
       "2           NaN           NaN           NaN           NaN   \n",
       "3         0.000           0.0       943.950           0.0   \n",
       "4         0.000           0.0       515.500           0.0   \n",
       "\n",
       "   YAL TeslimEdilemeyenMiktar(MWh)  YAT TeslimEdilemeyenMiktar(MWh);PFK Fiyat  \\\n",
       "0                             3.52                                       4.00   \n",
       "1                           197.56                                       0.00   \n",
       "2                              NaN                                        NaN   \n",
       "3                             0.00                                     155.43   \n",
       "4                             0.00                                      18.31   \n",
       "\n",
       "   PFK Fiyat  SFK Fiyat  spread  target_load  \n",
       "0      80.02      79.89    0.00       49.249  \n",
       "1      80.02      79.89    9.92      658.522  \n",
       "2      80.02      79.89    0.00          NaN  \n",
       "3      80.02      79.89  -50.01     -788.520  \n",
       "4      70.02      98.01   -7.10     -497.190  "
      ]
     },
     "execution_count": 5,
     "metadata": {},
     "output_type": "execute_result"
    }
   ],
   "source": [
    "df['target_load'] = df['YAL0(TL/MWh)'] + df['YAL1(TL/MWh)'] - df['YAL TeslimEdilemeyenMiktar(MWh)'] - df['YAT0(TL/MWh)'] - df['YAT1(TL/MWh)'] + df['YAT TeslimEdilemeyenMiktar(MWh);PFK Fiyat']\n",
    "df.head()"
   ]
  },
  {
   "cell_type": "code",
   "execution_count": 6,
   "metadata": {},
   "outputs": [
    {
     "data": {
      "text/plain": [
       "24967"
      ]
     },
     "execution_count": 6,
     "metadata": {},
     "output_type": "execute_result"
    }
   ],
   "source": [
    "df = df[df['target_load'].notna()]\n",
    "len(df)"
   ]
  },
  {
   "cell_type": "code",
   "execution_count": 9,
   "metadata": {},
   "outputs": [],
   "source": [
    "df['Date'] = pd.date_range(start = '20180201' , freq = 'H' , periods = len(df))"
   ]
  },
  {
   "cell_type": "code",
   "execution_count": 8,
   "metadata": {},
   "outputs": [],
   "source": [
    "df = df[['Date','target_load']]"
   ]
  },
  {
   "cell_type": "code",
   "execution_count": 10,
   "metadata": {},
   "outputs": [
    {
     "data": {
      "text/html": [
       "<div>\n",
       "<style scoped>\n",
       "    .dataframe tbody tr th:only-of-type {\n",
       "        vertical-align: middle;\n",
       "    }\n",
       "\n",
       "    .dataframe tbody tr th {\n",
       "        vertical-align: top;\n",
       "    }\n",
       "\n",
       "    .dataframe thead th {\n",
       "        text-align: right;\n",
       "    }\n",
       "</style>\n",
       "<table border=\"1\" class=\"dataframe\">\n",
       "  <thead>\n",
       "    <tr style=\"text-align: right;\">\n",
       "      <th></th>\n",
       "      <th>Date</th>\n",
       "      <th>target_load</th>\n",
       "    </tr>\n",
       "  </thead>\n",
       "  <tbody>\n",
       "    <tr>\n",
       "      <th>0</th>\n",
       "      <td>2018-02-01 00:00:00</td>\n",
       "      <td>49.249</td>\n",
       "    </tr>\n",
       "    <tr>\n",
       "      <th>1</th>\n",
       "      <td>2018-02-01 01:00:00</td>\n",
       "      <td>658.522</td>\n",
       "    </tr>\n",
       "    <tr>\n",
       "      <th>3</th>\n",
       "      <td>2018-02-01 02:00:00</td>\n",
       "      <td>-788.520</td>\n",
       "    </tr>\n",
       "    <tr>\n",
       "      <th>4</th>\n",
       "      <td>2018-02-01 03:00:00</td>\n",
       "      <td>-497.190</td>\n",
       "    </tr>\n",
       "    <tr>\n",
       "      <th>5</th>\n",
       "      <td>2018-02-01 04:00:00</td>\n",
       "      <td>-653.610</td>\n",
       "    </tr>\n",
       "  </tbody>\n",
       "</table>\n",
       "</div>"
      ],
      "text/plain": [
       "                 Date  target_load\n",
       "0 2018-02-01 00:00:00       49.249\n",
       "1 2018-02-01 01:00:00      658.522\n",
       "3 2018-02-01 02:00:00     -788.520\n",
       "4 2018-02-01 03:00:00     -497.190\n",
       "5 2018-02-01 04:00:00     -653.610"
      ]
     },
     "execution_count": 10,
     "metadata": {},
     "output_type": "execute_result"
    }
   ],
   "source": [
    "df.head()"
   ]
  },
  {
   "cell_type": "code",
   "execution_count": 11,
   "metadata": {},
   "outputs": [],
   "source": [
    "df = df.set_index('Date')"
   ]
  },
  {
   "cell_type": "code",
   "execution_count": 12,
   "metadata": {},
   "outputs": [
    {
     "data": {
      "image/png": "[encoded data removed]",
      "text/plain": [
       "<Figure size 432x288 with 1 Axes>"
      ]
     },
     "metadata": {
      "needs_background": "light"
     },
     "output_type": "display_data"
    }
   ],
   "source": [
    "import matplotlib.pyplot as plt\n",
    "df.plot()\n",
    "plt.show()"
   ]
  },
  {
   "cell_type": "code",
   "execution_count": 13,
   "metadata": {},
   "outputs": [
    {
     "data": {
      "text/html": [
       "<div>\n",
       "<style scoped>\n",
       "    .dataframe tbody tr th:only-of-type {\n",
       "        vertical-align: middle;\n",
       "    }\n",
       "\n",
       "    .dataframe tbody tr th {\n",
       "        vertical-align: top;\n",
       "    }\n",
       "\n",
       "    .dataframe thead th {\n",
       "        text-align: right;\n",
       "    }\n",
       "</style>\n",
       "<table border=\"1\" class=\"dataframe\">\n",
       "  <thead>\n",
       "    <tr style=\"text-align: right;\">\n",
       "      <th></th>\n",
       "      <th>target_load</th>\n",
       "    </tr>\n",
       "  </thead>\n",
       "  <tbody>\n",
       "    <tr>\n",
       "      <th>count</th>\n",
       "      <td>24967.000000</td>\n",
       "    </tr>\n",
       "    <tr>\n",
       "      <th>mean</th>\n",
       "      <td>234.756519</td>\n",
       "    </tr>\n",
       "    <tr>\n",
       "      <th>std</th>\n",
       "      <td>912.115139</td>\n",
       "    </tr>\n",
       "    <tr>\n",
       "      <th>min</th>\n",
       "      <td>-5229.322000</td>\n",
       "    </tr>\n",
       "    <tr>\n",
       "      <th>25%</th>\n",
       "      <td>-350.874000</td>\n",
       "    </tr>\n",
       "    <tr>\n",
       "      <th>50%</th>\n",
       "      <td>254.496000</td>\n",
       "    </tr>\n",
       "    <tr>\n",
       "      <th>75%</th>\n",
       "      <td>796.453000</td>\n",
       "    </tr>\n",
       "    <tr>\n",
       "      <th>max</th>\n",
       "      <td>4605.699000</td>\n",
       "    </tr>\n",
       "  </tbody>\n",
       "</table>\n",
       "</div>"
      ],
      "text/plain": [
       "        target_load\n",
       "count  24967.000000\n",
       "mean     234.756519\n",
       "std      912.115139\n",
       "min    -5229.322000\n",
       "25%     -350.874000\n",
       "50%      254.496000\n",
       "75%      796.453000\n",
       "max     4605.699000"
      ]
     },
     "execution_count": 13,
     "metadata": {},
     "output_type": "execute_result"
    }
   ],
   "source": [
    "df.describe()"
   ]
  },
  {
   "cell_type": "code",
   "execution_count": 14,
   "metadata": {},
   "outputs": [],
   "source": [
    "positive = 0\n",
    "negative = 0\n",
    "\n",
    "for n in df['target_load']:\n",
    "    if n >= 0:\n",
    "        positive +=1\n",
    "    elif n<0:\n",
    "        negative +=1\n",
    "df.plot()\n",
    "plt.show()"
   ]
  },
  {
   "cell_type": "code",
   "execution_count": 15,
   "metadata": {},
   "outputs": [
    {
     "data": {
      "text/plain": [
       "0.6093643609564625"
      ]
     },
     "execution_count": 15,
     "metadata": {},
     "output_type": "execute_result"
    }
   ],
   "source": [
    "positive/(positive + negative)"
   ]
  },
  {
   "cell_type": "code",
   "execution_count": 17,
   "metadata": {},
   "outputs": [],
   "source": [
    "listt = [positive , negative]"
   ]
  },
  {
   "cell_type": "code",
   "execution_count": 18,
   "metadata": {},
   "outputs": [
    {
     "data": {
      "image/png": "[encoded data removed]",
      "text/plain": [
       "<Figure size 1152x720 with 1 Axes>"
      ]
     },
     "metadata": {},
     "output_type": "display_data"
    }
   ],
   "source": [
    "import matplotlib.pyplot as plt\n",
    "labels = 'positive' , 'negative'\n",
    "sizes = listt\n",
    "explode =(0.2 , 0)\n",
    "plt.figure(figsize=(16,10))\n",
    "\n",
    "plt.pie(sizes , labels = labels ,autopct='%1.1f%%', startangle=150, explode=explode)\n",
    "# plt.figure(figsize=(20,20))\n",
    "plt.show()"
   ]
  },
  {
   "cell_type": "code",
   "execution_count": 23,
   "metadata": {},
   "outputs": [],
   "source": [
    "df_short = df[:100]"
   ]
  },
  {
   "cell_type": "code",
   "execution_count": 24,
   "metadata": {},
   "outputs": [
    {
     "data": {
      "image/png": "[encoded data removed]",
      "text/plain": [
       "<Figure size 432x288 with 1 Axes>"
      ]
     },
     "metadata": {
      "needs_background": "light"
     },
     "output_type": "display_data"
    }
   ],
   "source": [
    "df_short.plot()\n",
    "plt.show()"
   ]
  },
  {
   "cell_type": "code",
   "execution_count": null,
   "metadata": {},
   "outputs": [],
   "source": []
  }
 ],
 "metadata": {
  "kernelspec": {
   "display_name": "Python 3",
   "language": "python",
   "name": "python3"
  },
  "language_info": {
   "codemirror_mode": {
    "name": "ipython",
    "version": 3
   },
   "file_extension": ".py",
   "mimetype": "text/x-python",
   "name": "python",
   "nbconvert_exporter": "python",
   "pygments_lexer": "ipython3",
   "version": "3.8.8"
  }
 },
 "nbformat": 4,
 "nbformat_minor": 4
}
